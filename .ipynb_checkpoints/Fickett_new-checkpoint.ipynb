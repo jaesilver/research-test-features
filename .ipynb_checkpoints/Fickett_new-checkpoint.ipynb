{
 "cells": [
  {
   "cell_type": "code",
   "execution_count": 1,
   "id": "4d81a9ba",
   "metadata": {},
   "outputs": [
    {
     "name": "stdout",
     "output_type": "stream",
     "text": [
      "1.6993\n"
     ]
    }
   ],
   "source": [
    "def calculate_fickett_score(seq):\n",
    "    \"\"\"\n",
    "    Calculates the Fickett score for a given DNA sequence.\n",
    "    \"\"\"\n",
    "    num_a = seq.count('A')\n",
    "    num_c = seq.count('C')\n",
    "    num_g = seq.count('G')\n",
    "    num_t = seq.count('T')\n",
    "    \n",
    "    if num_a + num_c + num_g + num_t == 0:\n",
    "        return 0\n",
    "    \n",
    "    freq_a = num_a / (num_a + num_c + num_g + num_t)\n",
    "    freq_c = num_c / (num_a + num_c + num_g + num_t)\n",
    "    freq_g = num_g / (num_a + num_c + num_g + num_t)\n",
    "    freq_t = num_t / (num_a + num_c + num_g + num_t)\n",
    "    \n",
    "    r_y_ratio = (freq_a + freq_g) / (freq_c + freq_t)\n",
    "    a_t_ratio = freq_a / freq_t\n",
    "    gc_content = freq_g + freq_c\n",
    "    fickett_score = (r_y_ratio * a_t_ratio) + gc_content - 0.5\n",
    "    \n",
    "    return fickett_score\n",
    "\n",
    "def read_fasta_file(filename):\n",
    "    \"\"\"\n",
    "    Reads a FASTA file and returns a list of (header, sequence) tuples.\n",
    "    \"\"\"\n",
    "    sequences = []\n",
    "    with open(filename, 'r') as f:\n",
    "        header = ''\n",
    "        sequence = ''\n",
    "        for line in f:\n",
    "            if line.startswith('>'):\n",
    "                if header != '':\n",
    "                    sequences.append((header, sequence))\n",
    "                header = line.strip()[1:]\n",
    "                sequence = ''\n",
    "            else:\n",
    "                sequence += line.strip().upper()\n",
    "        if header != '':\n",
    "            sequences.append((header, sequence))\n",
    "    return sequences\n",
    "\n",
    "filename = 'lncRNA.fa'\n",
    "sequences = read_fasta_file(filename)\n",
    "\n",
    "for header, sequence in sequences:\n",
    "    fickett_score = calculate_fickett_score(sequence)\n",
    "#     print(f'{header}\\tFickett score: {fickett_score:.4f}')\n",
    "print(f'{}\\tFickett score: {fickett_score:.4f}')\n",
    "\n"
   ]
  },
  {
   "cell_type": "code",
   "execution_count": null,
   "id": "e891d046",
   "metadata": {},
   "outputs": [],
   "source": []
  }
 ],
 "metadata": {
  "kernelspec": {
   "display_name": "Python 3 (ipykernel)",
   "language": "python",
   "name": "python3"
  },
  "language_info": {
   "codemirror_mode": {
    "name": "ipython",
    "version": 3
   },
   "file_extension": ".py",
   "mimetype": "text/x-python",
   "name": "python",
   "nbconvert_exporter": "python",
   "pygments_lexer": "ipython3",
   "version": "3.9.13"
  }
 },
 "nbformat": 4,
 "nbformat_minor": 5
}
