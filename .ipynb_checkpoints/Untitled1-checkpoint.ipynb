{
 "cells": [
  {
   "cell_type": "code",
   "execution_count": 1,
   "id": "7399c13a",
   "metadata": {},
   "outputs": [
    {
     "ename": "FileNotFoundError",
     "evalue": "[Errno 2] No such file or directory: 'input.fasta'",
     "output_type": "error",
     "traceback": [
      "\u001b[0;31m---------------------------------------------------------------------------\u001b[0m",
      "\u001b[0;31mFileNotFoundError\u001b[0m                         Traceback (most recent call last)",
      "\u001b[0;32m/tmp/ipykernel_32826/1964015179.py\u001b[0m in \u001b[0;36m<module>\u001b[0;34m\u001b[0m\n\u001b[1;32m     44\u001b[0m \u001b[0;34m\u001b[0m\u001b[0m\n\u001b[1;32m     45\u001b[0m \u001b[0mfilename\u001b[0m \u001b[0;34m=\u001b[0m \u001b[0;34m'input.fasta'\u001b[0m\u001b[0;34m\u001b[0m\u001b[0;34m\u001b[0m\u001b[0m\n\u001b[0;32m---> 46\u001b[0;31m \u001b[0msequences\u001b[0m \u001b[0;34m=\u001b[0m \u001b[0mread_fasta_file\u001b[0m\u001b[0;34m(\u001b[0m\u001b[0mfilename\u001b[0m\u001b[0;34m)\u001b[0m\u001b[0;34m\u001b[0m\u001b[0;34m\u001b[0m\u001b[0m\n\u001b[0m\u001b[1;32m     47\u001b[0m \u001b[0;34m\u001b[0m\u001b[0m\n\u001b[1;32m     48\u001b[0m \u001b[0;32mfor\u001b[0m \u001b[0mheader\u001b[0m\u001b[0;34m,\u001b[0m \u001b[0msequence\u001b[0m \u001b[0;32min\u001b[0m \u001b[0msequences\u001b[0m\u001b[0;34m:\u001b[0m\u001b[0;34m\u001b[0m\u001b[0;34m\u001b[0m\u001b[0m\n",
      "\u001b[0;32m/tmp/ipykernel_32826/1964015179.py\u001b[0m in \u001b[0;36mread_fasta_file\u001b[0;34m(filename)\u001b[0m\n\u001b[1;32m     28\u001b[0m     \"\"\"\n\u001b[1;32m     29\u001b[0m     \u001b[0msequences\u001b[0m \u001b[0;34m=\u001b[0m \u001b[0;34m[\u001b[0m\u001b[0;34m]\u001b[0m\u001b[0;34m\u001b[0m\u001b[0;34m\u001b[0m\u001b[0m\n\u001b[0;32m---> 30\u001b[0;31m     \u001b[0;32mwith\u001b[0m \u001b[0mopen\u001b[0m\u001b[0;34m(\u001b[0m\u001b[0mfilename\u001b[0m\u001b[0;34m,\u001b[0m \u001b[0;34m'r'\u001b[0m\u001b[0;34m)\u001b[0m \u001b[0;32mas\u001b[0m \u001b[0mf\u001b[0m\u001b[0;34m:\u001b[0m\u001b[0;34m\u001b[0m\u001b[0;34m\u001b[0m\u001b[0m\n\u001b[0m\u001b[1;32m     31\u001b[0m         \u001b[0mheader\u001b[0m \u001b[0;34m=\u001b[0m \u001b[0;34m''\u001b[0m\u001b[0;34m\u001b[0m\u001b[0;34m\u001b[0m\u001b[0m\n\u001b[1;32m     32\u001b[0m         \u001b[0msequence\u001b[0m \u001b[0;34m=\u001b[0m \u001b[0;34m''\u001b[0m\u001b[0;34m\u001b[0m\u001b[0;34m\u001b[0m\u001b[0m\n",
      "\u001b[0;31mFileNotFoundError\u001b[0m: [Errno 2] No such file or directory: 'input.fasta'"
     ]
    }
   ],
   "source": [
    "def calculate_fickett_score(seq):\n",
    "    \"\"\"\n",
    "    Calculates the Fickett score for a given DNA sequence.\n",
    "    \"\"\"\n",
    "    num_a = seq.count('A')\n",
    "    num_c = seq.count('C')\n",
    "    num_g = seq.count('G')\n",
    "    num_t = seq.count('T')\n",
    "    \n",
    "    if num_a + num_c + num_g + num_t == 0:\n",
    "        return 0\n",
    "    \n",
    "    freq_a = num_a / (num_a + num_c + num_g + num_t)\n",
    "    freq_c = num_c / (num_a + num_c + num_g + num_t)\n",
    "    freq_g = num_g / (num_a + num_c + num_g + num_t)\n",
    "    freq_t = num_t / (num_a + num_c + num_g + num_t)\n",
    "    \n",
    "    r_y_ratio = (freq_a + freq_g) / (freq_c + freq_t)\n",
    "    a_t_ratio = freq_a / freq_t\n",
    "    gc_content = freq_g + freq_c\n",
    "    fickett_score = (r_y_ratio * a_t_ratio) + gc_content - 0.5\n",
    "    \n",
    "    return fickett_score\n",
    "\n",
    "def read_fasta_file(filename):\n",
    "    \"\"\"\n",
    "    Reads a FASTA file and returns a list of (header, sequence) tuples.\n",
    "    \"\"\"\n",
    "    sequences = []\n",
    "    with open(filename, 'r') as f:\n",
    "        header = ''\n",
    "        sequence = ''\n",
    "        for line in f:\n",
    "            if line.startswith('>'):\n",
    "                if header != '':\n",
    "                    sequences.append((header, sequence))\n",
    "                header = line.strip()[1:]\n",
    "                sequence = ''\n",
    "            else:\n",
    "                sequence += line.strip().upper()\n",
    "        if header != '':\n",
    "            sequences.append((header, sequence))\n",
    "    return sequences\n",
    "\n",
    "filename = 'lncRNA.fa'\n",
    "sequences = read_fasta_file(filename)\n",
    "\n",
    "for header, sequence in sequences:\n",
    "    fickett_score = calculate_fickett_score(sequence)\n",
    "    print(f'{header}\\tFickett score: {fickett_score:.4f}')\n"
   ]
  },
  {
   "cell_type": "code",
   "execution_count": null,
   "id": "5038fde3",
   "metadata": {},
   "outputs": [],
   "source": []
  }
 ],
 "metadata": {
  "kernelspec": {
   "display_name": "Python 3 (ipykernel)",
   "language": "python",
   "name": "python3"
  },
  "language_info": {
   "codemirror_mode": {
    "name": "ipython",
    "version": 3
   },
   "file_extension": ".py",
   "mimetype": "text/x-python",
   "name": "python",
   "nbconvert_exporter": "python",
   "pygments_lexer": "ipython3",
   "version": "3.9.13"
  }
 },
 "nbformat": 4,
 "nbformat_minor": 5
}
