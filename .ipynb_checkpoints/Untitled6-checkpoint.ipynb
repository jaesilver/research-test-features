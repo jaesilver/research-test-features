{
 "cells": [
  {
   "cell_type": "code",
   "execution_count": 1,
   "id": "c1adf273",
   "metadata": {},
   "outputs": [
    {
     "ename": "ApplicationError",
     "evalue": "Non-zero return code 127 from 'clustalo -i example.fasta -o aligned.fasta --auto -v', message '/bin/sh: 1: clustalo: not found'",
     "output_type": "error",
     "traceback": [
      "\u001b[0;31m---------------------------------------------------------------------------\u001b[0m",
      "\u001b[0;31mApplicationError\u001b[0m                          Traceback (most recent call last)",
      "\u001b[0;32m/tmp/ipykernel_69688/3812907259.py\u001b[0m in \u001b[0;36m<module>\u001b[0;34m\u001b[0m\n\u001b[1;32m     23\u001b[0m \u001b[0;31m# Run Clustal Omega to align the sequences\u001b[0m\u001b[0;34m\u001b[0m\u001b[0;34m\u001b[0m\u001b[0m\n\u001b[1;32m     24\u001b[0m \u001b[0mclustalomega_cline\u001b[0m \u001b[0;34m=\u001b[0m \u001b[0mClustalOmegaCommandline\u001b[0m\u001b[0;34m(\u001b[0m\u001b[0minfile\u001b[0m\u001b[0;34m=\u001b[0m\u001b[0mfasta_file\u001b[0m\u001b[0;34m,\u001b[0m \u001b[0moutfile\u001b[0m\u001b[0;34m=\u001b[0m\u001b[0;34m'aligned.fasta'\u001b[0m\u001b[0;34m,\u001b[0m \u001b[0mverbose\u001b[0m\u001b[0;34m=\u001b[0m\u001b[0;32mTrue\u001b[0m\u001b[0;34m,\u001b[0m \u001b[0mauto\u001b[0m\u001b[0;34m=\u001b[0m\u001b[0;32mTrue\u001b[0m\u001b[0;34m)\u001b[0m\u001b[0;34m\u001b[0m\u001b[0;34m\u001b[0m\u001b[0m\n\u001b[0;32m---> 25\u001b[0;31m \u001b[0mstdout\u001b[0m\u001b[0;34m,\u001b[0m \u001b[0mstderr\u001b[0m \u001b[0;34m=\u001b[0m \u001b[0mclustalomega_cline\u001b[0m\u001b[0;34m(\u001b[0m\u001b[0;34m)\u001b[0m\u001b[0;34m\u001b[0m\u001b[0;34m\u001b[0m\u001b[0m\n\u001b[0m\u001b[1;32m     26\u001b[0m \u001b[0;34m\u001b[0m\u001b[0m\n\u001b[1;32m     27\u001b[0m \u001b[0;31m# Parse the resulting alignment\u001b[0m\u001b[0;34m\u001b[0m\u001b[0;34m\u001b[0m\u001b[0m\n",
      "\u001b[0;32m~/anaconda3/lib/python3.9/site-packages/Bio/Application/__init__.py\u001b[0m in \u001b[0;36m__call__\u001b[0;34m(self, stdin, stdout, stderr, cwd, env)\u001b[0m\n\u001b[1;32m    572\u001b[0m \u001b[0;34m\u001b[0m\u001b[0m\n\u001b[1;32m    573\u001b[0m         \u001b[0;32mif\u001b[0m \u001b[0mreturn_code\u001b[0m\u001b[0;34m:\u001b[0m\u001b[0;34m\u001b[0m\u001b[0;34m\u001b[0m\u001b[0m\n\u001b[0;32m--> 574\u001b[0;31m             \u001b[0;32mraise\u001b[0m \u001b[0mApplicationError\u001b[0m\u001b[0;34m(\u001b[0m\u001b[0mreturn_code\u001b[0m\u001b[0;34m,\u001b[0m \u001b[0mstr\u001b[0m\u001b[0;34m(\u001b[0m\u001b[0mself\u001b[0m\u001b[0;34m)\u001b[0m\u001b[0;34m,\u001b[0m \u001b[0mstdout_str\u001b[0m\u001b[0;34m,\u001b[0m \u001b[0mstderr_str\u001b[0m\u001b[0;34m)\u001b[0m\u001b[0;34m\u001b[0m\u001b[0;34m\u001b[0m\u001b[0m\n\u001b[0m\u001b[1;32m    575\u001b[0m         \u001b[0;32mreturn\u001b[0m \u001b[0mstdout_str\u001b[0m\u001b[0;34m,\u001b[0m \u001b[0mstderr_str\u001b[0m\u001b[0;34m\u001b[0m\u001b[0;34m\u001b[0m\u001b[0m\n\u001b[1;32m    576\u001b[0m \u001b[0;34m\u001b[0m\u001b[0m\n",
      "\u001b[0;31mApplicationError\u001b[0m: Non-zero return code 127 from 'clustalo -i example.fasta -o aligned.fasta --auto -v', message '/bin/sh: 1: clustalo: not found'"
     ]
    }
   ],
   "source": [
    "from Bio.Align.Applications import ClustalOmegaCommandline\n",
    "from Bio import AlignIO\n",
    "\n",
    "def calculate_conservation_score(alignment):\n",
    "    \"\"\"Calculate conservation score for each position in a multiple sequence alignment\"\"\"\n",
    "    num_sequences = len(alignment)\n",
    "    seq_length = alignment.get_alignment_length()\n",
    "    conservation_scores = []\n",
    "    for i in range(seq_length):\n",
    "        column = alignment[:, i]\n",
    "        column_residues = [s.upper() for s in column if s != '-']\n",
    "        num_residues = len(column_residues)\n",
    "        if num_residues == 0:\n",
    "            conservation_scores.append(0)\n",
    "        else:\n",
    "            conservation = sum([column_residues.count(s) / num_residues for s in set(column_residues)])\n",
    "            conservation_scores.append(conservation)\n",
    "    return conservation_scores\n",
    "\n",
    "# Path to input fasta file\n",
    "fasta_file = 'lncRNA.fa'\n",
    "\n",
    "# Run Clustal Omega to align the sequences\n",
    "clustalomega_cline = ClustalOmegaCommandline(infile=fasta_file, outfile='aligned.fasta', verbose=True, auto=True)\n",
    "stdout, stderr = clustalomega_cline()\n",
    "\n",
    "# Parse the resulting alignment\n",
    "alignment = AlignIO.read('aligned.fasta', 'fasta')\n",
    "\n",
    "# Calculate conservation score for each sequence in the alignment\n",
    "for record in alignment:\n",
    "    conservation_scores = calculate_conservation_score(alignment[:, record.id])\n",
    "    print(f'{record.id}: {conservation_scores}')\n"
   ]
  },
  {
   "cell_type": "code",
   "execution_count": null,
   "id": "f28349d5",
   "metadata": {},
   "outputs": [],
   "source": []
  }
 ],
 "metadata": {
  "kernelspec": {
   "display_name": "Python 3 (ipykernel)",
   "language": "python",
   "name": "python3"
  },
  "language_info": {
   "codemirror_mode": {
    "name": "ipython",
    "version": 3
   },
   "file_extension": ".py",
   "mimetype": "text/x-python",
   "name": "python",
   "nbconvert_exporter": "python",
   "pygments_lexer": "ipython3",
   "version": "3.9.13"
  }
 },
 "nbformat": 4,
 "nbformat_minor": 5
}
