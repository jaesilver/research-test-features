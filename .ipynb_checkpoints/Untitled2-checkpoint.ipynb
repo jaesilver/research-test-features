{
 "cells": [
  {
   "cell_type": "code",
   "execution_count": 1,
   "id": "0d42bc5f",
   "metadata": {},
   "outputs": [
    {
     "ename": "FileNotFoundError",
     "evalue": "[Errno 2] No such file or directory: 'input.fasta'",
     "output_type": "error",
     "traceback": [
      "\u001b[0;31m---------------------------------------------------------------------------\u001b[0m",
      "\u001b[0;31mFileNotFoundError\u001b[0m                         Traceback (most recent call last)",
      "\u001b[0;32m/tmp/ipykernel_33120/275643819.py\u001b[0m in \u001b[0;36m<module>\u001b[0;34m\u001b[0m\n\u001b[1;32m     40\u001b[0m \u001b[0;34m\u001b[0m\u001b[0m\n\u001b[1;32m     41\u001b[0m \u001b[0mfilename\u001b[0m \u001b[0;34m=\u001b[0m \u001b[0;34m'input.fasta'\u001b[0m\u001b[0;34m\u001b[0m\u001b[0;34m\u001b[0m\u001b[0m\n\u001b[0;32m---> 42\u001b[0;31m \u001b[0msequences\u001b[0m \u001b[0;34m=\u001b[0m \u001b[0mread_fasta_file\u001b[0m\u001b[0;34m(\u001b[0m\u001b[0mfilename\u001b[0m\u001b[0;34m)\u001b[0m\u001b[0;34m\u001b[0m\u001b[0;34m\u001b[0m\u001b[0m\n\u001b[0m\u001b[1;32m     43\u001b[0m \u001b[0;34m\u001b[0m\u001b[0m\n\u001b[1;32m     44\u001b[0m \u001b[0;32mfor\u001b[0m \u001b[0mheader\u001b[0m\u001b[0;34m,\u001b[0m \u001b[0msequence\u001b[0m \u001b[0;32min\u001b[0m \u001b[0msequences\u001b[0m\u001b[0;34m:\u001b[0m\u001b[0;34m\u001b[0m\u001b[0;34m\u001b[0m\u001b[0m\n",
      "\u001b[0;32m/tmp/ipykernel_33120/275643819.py\u001b[0m in \u001b[0;36mread_fasta_file\u001b[0;34m(filename)\u001b[0m\n\u001b[1;32m      4\u001b[0m     \"\"\"\n\u001b[1;32m      5\u001b[0m     \u001b[0msequences\u001b[0m \u001b[0;34m=\u001b[0m \u001b[0;34m[\u001b[0m\u001b[0;34m]\u001b[0m\u001b[0;34m\u001b[0m\u001b[0;34m\u001b[0m\u001b[0m\n\u001b[0;32m----> 6\u001b[0;31m     \u001b[0;32mwith\u001b[0m \u001b[0mopen\u001b[0m\u001b[0;34m(\u001b[0m\u001b[0mfilename\u001b[0m\u001b[0;34m,\u001b[0m \u001b[0;34m'r'\u001b[0m\u001b[0;34m)\u001b[0m \u001b[0;32mas\u001b[0m \u001b[0mf\u001b[0m\u001b[0;34m:\u001b[0m\u001b[0;34m\u001b[0m\u001b[0;34m\u001b[0m\u001b[0m\n\u001b[0m\u001b[1;32m      7\u001b[0m         \u001b[0mheader\u001b[0m \u001b[0;34m=\u001b[0m \u001b[0;34m''\u001b[0m\u001b[0;34m\u001b[0m\u001b[0;34m\u001b[0m\u001b[0m\n\u001b[1;32m      8\u001b[0m         \u001b[0msequence\u001b[0m \u001b[0;34m=\u001b[0m \u001b[0;34m''\u001b[0m\u001b[0;34m\u001b[0m\u001b[0;34m\u001b[0m\u001b[0m\n",
      "\u001b[0;31mFileNotFoundError\u001b[0m: [Errno 2] No such file or directory: 'input.fasta'"
     ]
    }
   ],
   "source": [
    "def read_fasta_file(filename):\n",
    "    \"\"\"\n",
    "    Reads a FASTA file and returns a list of (header, sequence) tuples.\n",
    "    \"\"\"\n",
    "    sequences = []\n",
    "    with open(filename, 'r') as f:\n",
    "        header = ''\n",
    "        sequence = ''\n",
    "        for line in f:\n",
    "            if line.startswith('>'):\n",
    "                if header != '':\n",
    "                    sequences.append((header, sequence))\n",
    "                header = line.strip()[1:]\n",
    "                sequence = ''\n",
    "            else:\n",
    "                sequence += line.strip().upper()\n",
    "        if header != '':\n",
    "            sequences.append((header, sequence))\n",
    "    return sequences\n",
    "\n",
    "def find_longest_orf(sequence):\n",
    "    \"\"\"\n",
    "    Finds the longest ORF in a given DNA sequence.\n",
    "    \"\"\"\n",
    "    longest_orf_length = 0\n",
    "    for frame in range(3):\n",
    "        for pos in range(frame, len(sequence)-2, 3):\n",
    "            codon = sequence[pos:pos+3]\n",
    "            if codon == 'ATG':\n",
    "                orf_length = 0\n",
    "                for pos2 in range(pos, len(sequence)-2, 3):\n",
    "                    codon2 = sequence[pos2:pos2+3]\n",
    "                    if codon2 in ('TAA', 'TAG', 'TGA'):\n",
    "                        break\n",
    "                    else:\n",
    "                        orf_length += 3\n",
    "                if orf_length > longest_orf_length:\n",
    "                    longest_orf_length = orf_length\n",
    "    return longest_orf_length\n",
    "\n",
    "filename = 'lncRNA.fa'\n",
    "sequences = read_fasta_file(filename)\n",
    "\n",
    "for header, sequence in sequences:\n",
    "    orf_length = find_longest_orf(sequence)\n",
    "    print(f'{header}\\tORF length: {orf_length}')\n"
   ]
  },
  {
   "cell_type": "code",
   "execution_count": null,
   "id": "e68f3db9",
   "metadata": {},
   "outputs": [],
   "source": []
  }
 ],
 "metadata": {
  "kernelspec": {
   "display_name": "Python 3 (ipykernel)",
   "language": "python",
   "name": "python3"
  },
  "language_info": {
   "codemirror_mode": {
    "name": "ipython",
    "version": 3
   },
   "file_extension": ".py",
   "mimetype": "text/x-python",
   "name": "python",
   "nbconvert_exporter": "python",
   "pygments_lexer": "ipython3",
   "version": "3.9.13"
  }
 },
 "nbformat": 4,
 "nbformat_minor": 5
}
