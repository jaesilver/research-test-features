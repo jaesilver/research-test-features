{
 "cells": [
  {
   "cell_type": "code",
   "execution_count": null,
   "id": "9e7100b1",
   "metadata": {},
   "outputs": [],
   "source": [
    "# from Bio import SeqIO\n",
    "# import RNA\n",
    "\n",
    "# # Open the FASTA file\n",
    "# fasta_file = \"lncRNA.fa\"\n",
    "\n",
    "# # Iterate over each sequence in the file\n",
    "# for seq_record in SeqIO.parse(fasta_file, \"fasta\"):\n",
    "#     # Get the RNA sequence as a string\n",
    "#     rna_sequence = str(seq_record.seq)\n",
    "\n",
    "#     # Calculate the minimum free energy\n",
    "#     mfe = RNA.fold(rna_sequence)[1]\n",
    "\n",
    "#     # Print the sequence ID and the minimal free energy\n",
    "#     print(seq_record.id, mfe)\n"
   ]
  },
  {
   "cell_type": "code",
   "execution_count": null,
   "id": "a01857f3",
   "metadata": {},
   "outputs": [],
   "source": [
    "from Bio import SeqIO\n",
    "import RNA\n",
    "\n",
    "# Open the FASTA file\n",
    "fasta_file = \"lncRNA.fa\"\n",
    "\n",
    "# Iterate over each sequence in the file\n",
    "for seq_record in SeqIO.parse(fasta_file, \"fasta\"):\n",
    "    # Get the RNA sequence as a string\n",
    "    rna_sequence = str(seq_record.seq)\n",
    "\n",
    "    # Calculate the minimum free energy\n",
    "    mfe = RNA.fold(rna_sequence)[1]\n",
    "\n",
    "    # Print the sequence ID and the minimal free energy\n",
    "    print(seq_record.id, mfe)\n"
   ]
  },
  {
   "cell_type": "code",
   "execution_count": null,
   "id": "d5dd6442",
   "metadata": {},
   "outputs": [],
   "source": [
    "from Bio import SeqIO\n",
    "import RNA\n",
    "\n",
    "# Open the FASTA file\n",
    "fasta_file = \"lncRNA.fa\"\n",
    "\n",
    "# Iterate over each sequence in the file\n",
    "for seq_record in SeqIO.parse(fasta_file, \"fasta\"):\n",
    "    # Get the RNA sequence as a string\n",
    "    rna_sequence = str(seq_record.seq)\n",
    "\n",
    "    # Calculate the minimum free energy\n",
    "    mfe = RNA.fold(rna_sequence)[1]\n",
    "\n",
    "    # Print the sequence ID and the minimal free energy\n",
    "    print(f\"{seq_record.id}\\t{mfe:.2f}\")\n"
   ]
  },
  {
   "cell_type": "code",
   "execution_count": null,
   "id": "e560d847",
   "metadata": {},
   "outputs": [],
   "source": [
    "from Bio import SeqIO\n",
    "import RNA\n",
    "\n",
    "# Open the FASTA file\n",
    "fasta_file = \"lncRNA.fa\"\n",
    "\n",
    "# Iterate over each sequence in the file\n",
    "for seq_record in SeqIO.parse(fasta_file, \"fasta\"):\n",
    "    # Get the RNA sequence as a string\n",
    "    rna_sequence = str(seq_record.seq)\n",
    "\n",
    "    # Calculate the minimum free energy\n",
    "    mfe = RNA.fold(rna_sequence)[1]\n",
    "\n",
    "    # Print the sequence ID and the minimal free energy\n",
    "    print(f\"{seq_record.id}\\t{mfe:.2f}\")\n"
   ]
  },
  {
   "cell_type": "code",
   "execution_count": null,
   "id": "9d441c3f",
   "metadata": {},
   "outputs": [],
   "source": [
    "from Bio import SeqIO\n",
    "import RNA\n",
    "\n",
    "# Open the FASTA file\n",
    "fasta_file = \"lncRNA.fa\"\n",
    "\n",
    "if __name__ == '__main__':\n",
    "    # Iterate over each sequence in the file\n",
    "    for seq_record in SeqIO.parse(fasta_file, \"fasta\"):\n",
    "        # Get the RNA sequence as a string\n",
    "        rna_sequence = str(seq_record.seq)\n",
    "\n",
    "        # Calculate the minimum free energy\n",
    "        mfe = RNA.fold(rna_sequence)[1]\n",
    "\n",
    "        # Print the sequence ID and the minimal free energy\n",
    "        print(f\"{seq_record.id}\\t{mfe:.2f}\")\n"
   ]
  },
  {
   "cell_type": "code",
   "execution_count": null,
   "id": "72d26b99",
   "metadata": {},
   "outputs": [],
   "source": [
    "import RNA\n",
    "print(RNA.VERSION)\n",
    "\n"
   ]
  },
  {
   "cell_type": "code",
   "execution_count": null,
   "id": "ca95b054",
   "metadata": {},
   "outputs": [],
   "source": []
  }
 ],
 "metadata": {
  "kernelspec": {
   "display_name": "Python 3 (ipykernel)",
   "language": "python",
   "name": "python3"
  },
  "language_info": {
   "codemirror_mode": {
    "name": "ipython",
    "version": 3
   },
   "file_extension": ".py",
   "mimetype": "text/x-python",
   "name": "python",
   "nbconvert_exporter": "python",
   "pygments_lexer": "ipython3",
   "version": "3.9.13"
  }
 },
 "nbformat": 4,
 "nbformat_minor": 5
}
