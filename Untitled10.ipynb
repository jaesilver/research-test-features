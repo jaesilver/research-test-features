{
 "cells": [
  {
   "cell_type": "code",
   "execution_count": null,
   "id": "d37f83ec",
   "metadata": {},
   "outputs": [],
   "source": [
    "def transcript_length(seq):\n",
    "    return len(seq)\n",
    "\n",
    "def fasta_to_transcript_length(fasta_file):\n",
    "    with open(fasta_file) as f:\n",
    "        seq = ''\n",
    "        for line in f:\n",
    "            if line.startswith('>'):\n",
    "                if seq:\n",
    "                    length = transcript_length(seq)\n",
    "                    print(f'Sequence: {header}\\nTranscript length: {length}\\n')\n",
    "                    seq = ''\n",
    "                header = line.strip()\n",
    "            else:\n",
    "                seq += line.strip()\n",
    "        if seq:\n",
    "            length = transcript_length(seq)\n",
    "            print(f'Sequence: {header}\\nTranscript length: {length}\\n')\n",
    "fasta_to_transcript_length('lncRNA.fa')\n"
   ]
  }
 ],
 "metadata": {
  "kernelspec": {
   "display_name": "Python 3 (ipykernel)",
   "language": "python",
   "name": "python3"
  },
  "language_info": {
   "codemirror_mode": {
    "name": "ipython",
    "version": 3
   },
   "file_extension": ".py",
   "mimetype": "text/x-python",
   "name": "python",
   "nbconvert_exporter": "python",
   "pygments_lexer": "ipython3",
   "version": "3.9.13"
  }
 },
 "nbformat": 4,
 "nbformat_minor": 5
}
